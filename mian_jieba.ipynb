{
 "cells": [
  {
   "cell_type": "code",
   "execution_count": null,
   "id": "58544dd1-d3b4-4428-9f85-b138a5ca41f0",
   "metadata": {},
   "outputs": [],
   "source": [
    "#结巴分词实践"
   ]
  },
  {
   "cell_type": "code",
   "execution_count": null,
   "id": "15de7bc9-70b4-4eab-9280-f2cb8598a84c",
   "metadata": {},
   "outputs": [],
   "source": [
    "##结巴分词的三种模式"
   ]
  },
  {
   "cell_type": "code",
   "execution_count": null,
   "id": "75e9de27-a6a1-4106-9a56-645627f53b9b",
   "metadata": {},
   "outputs": [],
   "source": [
    "###全模式"
   ]
  },
  {
   "cell_type": "code",
   "execution_count": 1,
   "id": "23e02019-20e4-4ac0-81ec-a69f0ce8e7b8",
   "metadata": {
    "scrolled": true
   },
   "outputs": [
    {
     "name": "stderr",
     "output_type": "stream",
     "text": [
      "Building prefix dict from the default dictionary ...\n",
      "Loading model from cache C:\\Users\\cmx\\AppData\\Local\\Temp\\jieba.cache\n",
      "Loading model cost 0.326 seconds.\n",
      "Prefix dict has been built successfully.\n"
     ]
    },
    {
     "name": "stdout",
     "output_type": "stream",
     "text": [
      "Full Mode:我/来到/北京/清华/清华大学/华大/大学\n"
     ]
    }
   ],
   "source": [
    "import jieba\n",
    "seg_list = jieba.cut(\"我来到北京清华大学\",cut_all=True)\n",
    "print(\"Full Mode:\"+\"/\".join(seg_list))"
   ]
  },
  {
   "cell_type": "code",
   "execution_count": null,
   "id": "6e75036e-6cd4-4166-8aa3-49ccedefcede",
   "metadata": {},
   "outputs": [],
   "source": [
    "###精确模式"
   ]
  },
  {
   "cell_type": "code",
   "execution_count": 2,
   "id": "41189854-cdf9-49a7-bba2-ad53306e475e",
   "metadata": {},
   "outputs": [
    {
     "name": "stdout",
     "output_type": "stream",
     "text": [
      "Default Mode:我/来到/北京/清华大学\n"
     ]
    }
   ],
   "source": [
    "seg_list=jieba.cut(\"我来到北京清华大学\",cut_all=False)\n",
    "print(\"Default Mode:\"+\"/\".join(seg_list))"
   ]
  },
  {
   "cell_type": "code",
   "execution_count": null,
   "id": "973b6397-0042-4a90-912f-ca5ba03dc91f",
   "metadata": {},
   "outputs": [],
   "source": [
    "###搜索引擎模式"
   ]
  },
  {
   "cell_type": "code",
   "execution_count": 4,
   "id": "39658250-2f59-4567-b0bd-cf0a1b99da40",
   "metadata": {},
   "outputs": [
    {
     "name": "stdout",
     "output_type": "stream",
     "text": [
      "小明,硕士,毕业,于,中国,科学,学院,科学院,中国科学院,计算,计算所,，,后,在,日本,京都,大学,日本京都大学,深造\n"
     ]
    }
   ],
   "source": [
    "seg_list = jieba.cut_for_search(\"小明硕士毕业于中国科学院计算所，后在日本京都大学深造\")\n",
    "print(\",\".join(seg_list))"
   ]
  },
  {
   "cell_type": "code",
   "execution_count": null,
   "id": "da635940-1203-4ef3-8292-06281914f5df",
   "metadata": {},
   "outputs": [],
   "source": [
    "##载入词典"
   ]
  },
  {
   "cell_type": "code",
   "execution_count": 6,
   "id": "4fd3fd09-a4aa-4b7b-b146-785c0c30920e",
   "metadata": {},
   "outputs": [
    {
     "name": "stdout",
     "output_type": "stream",
     "text": [
      "Default Mode:陈明旭/即将/是/自然语言/处理/方面/的/高手\n"
     ]
    }
   ],
   "source": [
    "jieba.load_userdict(\"userdict.txt\")\n",
    "seg_list = jieba.cut(\"陈明旭即将是自然语言处理方面的高手\",cut_all=False,HMM=False)\n",
    "print(\"Default Mode:\"+\"/\".join(seg_list))"
   ]
  },
  {
   "cell_type": "code",
   "execution_count": null,
   "id": "274f642a-7e3f-4c8b-99e1-815f98e6b29c",
   "metadata": {},
   "outputs": [],
   "source": [
    "#关键词提取"
   ]
  },
  {
   "cell_type": "code",
   "execution_count": 7,
   "id": "7a2e8a33-b12e-4fdc-b580-d9f4da8570a1",
   "metadata": {},
   "outputs": [
    {
     "name": "stdout",
     "output_type": "stream",
     "text": [
      "Top-5关键词：\n",
      "重点\n",
      "大学\n",
      "国家\n",
      "河北省\n",
      "共建\n"
     ]
    }
   ],
   "source": [
    "import jieba.analyse\n",
    "sentence = \"燕山大学是河北省人民政府、教育部、工业和信息化部、国家国防科技工业局四方共建的全国重点大学，河北省重点支持的国家一流大学和世界一流学科建设高校，北京高科大学联盟成员。\"\n",
    "keywords = jieba.analyse.textrank(sentence, topK=5, withWeight=False, allowPOS=('n', 'ns', 'vn', 'v'))\n",
    "print(\"Top-5关键词：\")\n",
    "for keyword in keywords:\n",
    "    print(keyword)"
   ]
  },
  {
   "cell_type": "code",
   "execution_count": null,
   "id": "cf3ab804-0135-495a-a367-e89f8d3666d2",
   "metadata": {},
   "outputs": [],
   "source": []
  }
 ],
 "metadata": {
  "kernelspec": {
   "display_name": "Python 3 (ipykernel)",
   "language": "python",
   "name": "python3"
  },
  "language_info": {
   "codemirror_mode": {
    "name": "ipython",
    "version": 3
   },
   "file_extension": ".py",
   "mimetype": "text/x-python",
   "name": "python",
   "nbconvert_exporter": "python",
   "pygments_lexer": "ipython3",
   "version": "3.9.21"
  }
 },
 "nbformat": 4,
 "nbformat_minor": 5
}
